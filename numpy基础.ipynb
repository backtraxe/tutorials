{
 "cells": [
  {
   "cell_type": "code",
   "execution_count": 1,
   "id": "a40471b5",
   "metadata": {},
   "outputs": [],
   "source": [
    "import numpy as np"
   ]
  },
  {
   "cell_type": "code",
   "execution_count": 2,
   "id": "deea27a5",
   "metadata": {},
   "outputs": [],
   "source": [
    "# 随机种子，固定随机数的输出结果，确保结果可复现\n",
    "np.random.seed(0)"
   ]
  },
  {
   "cell_type": "markdown",
   "id": "83420b30",
   "metadata": {},
   "source": [
    "## 创建数组"
   ]
  },
  {
   "cell_type": "code",
   "execution_count": 3,
   "id": "41f2ade7",
   "metadata": {
    "scrolled": true
   },
   "outputs": [
    {
     "data": {
      "text/plain": [
       "array([1, 2, 3])"
      ]
     },
     "execution_count": 3,
     "metadata": {},
     "output_type": "execute_result"
    }
   ],
   "source": [
    "np.array([1, 2, 3])"
   ]
  },
  {
   "cell_type": "markdown",
   "id": "b95d4aea",
   "metadata": {},
   "source": [
    "`np.linspace(start, stop, num=50, endpoint=True, retstep=False, dtype=None, axis=0)`"
   ]
  },
  {
   "cell_type": "code",
   "execution_count": 4,
   "id": "5f18f14e",
   "metadata": {},
   "outputs": [
    {
     "data": {
      "text/plain": [
       "array([ 1.,  2.,  3.,  4.,  5.,  6.,  7.,  8.,  9., 10., 11., 12., 13.,\n",
       "       14., 15., 16., 17., 18., 19., 20., 21., 22., 23., 24., 25., 26.,\n",
       "       27., 28., 29., 30., 31., 32., 33., 34., 35., 36., 37., 38., 39.,\n",
       "       40., 41., 42., 43., 44., 45., 46., 47., 48., 49., 50.])"
      ]
     },
     "execution_count": 4,
     "metadata": {},
     "output_type": "execute_result"
    }
   ],
   "source": [
    "np.linspace(1, 50)"
   ]
  },
  {
   "cell_type": "code",
   "execution_count": 5,
   "id": "2c6c6ba3",
   "metadata": {},
   "outputs": [
    {
     "data": {
      "text/plain": [
       "array([0. , 1.5, 3. , 4.5, 6. ])"
      ]
     },
     "execution_count": 5,
     "metadata": {},
     "output_type": "execute_result"
    }
   ],
   "source": [
    "np.linspace(0, 6, 5)"
   ]
  },
  {
   "cell_type": "code",
   "execution_count": 6,
   "id": "3f508cdd",
   "metadata": {},
   "outputs": [
    {
     "data": {
      "text/plain": [
       "array([0. , 1.2, 2.4, 3.6, 4.8])"
      ]
     },
     "execution_count": 6,
     "metadata": {},
     "output_type": "execute_result"
    }
   ],
   "source": [
    "# [start, stop)\n",
    "np.linspace(0, 6, 5, endpoint=False)"
   ]
  },
  {
   "cell_type": "code",
   "execution_count": 7,
   "id": "2e2f5309",
   "metadata": {},
   "outputs": [
    {
     "data": {
      "text/plain": [
       "(array([0. , 1.5, 3. , 4.5, 6. ]), 1.5)"
      ]
     },
     "execution_count": 7,
     "metadata": {},
     "output_type": "execute_result"
    }
   ],
   "source": [
    "# 返回间距\n",
    "np.linspace(0, 6, 5, retstep=True)"
   ]
  },
  {
   "cell_type": "markdown",
   "id": "d81449f5",
   "metadata": {},
   "source": [
    "`np.arange([start=0, ]stop, [step=1, ]dtype=None)`"
   ]
  },
  {
   "cell_type": "code",
   "execution_count": 8,
   "id": "5ca6d4bd",
   "metadata": {},
   "outputs": [
    {
     "data": {
      "text/plain": [
       "array([0., 1., 2.])"
      ]
     },
     "execution_count": 8,
     "metadata": {},
     "output_type": "execute_result"
    }
   ],
   "source": [
    "np.arange(3.0)"
   ]
  },
  {
   "cell_type": "code",
   "execution_count": 9,
   "id": "85a111a2",
   "metadata": {},
   "outputs": [
    {
     "data": {
      "text/plain": [
       "array([3, 4, 5])"
      ]
     },
     "execution_count": 9,
     "metadata": {},
     "output_type": "execute_result"
    }
   ],
   "source": [
    "np.arange(3, 6)"
   ]
  },
  {
   "cell_type": "code",
   "execution_count": 10,
   "id": "a8ea58ab",
   "metadata": {},
   "outputs": [
    {
     "data": {
      "text/plain": [
       "array([0, 2, 4])"
      ]
     },
     "execution_count": 10,
     "metadata": {},
     "output_type": "execute_result"
    }
   ],
   "source": [
    "np.arange(0, 6, 2)"
   ]
  },
  {
   "cell_type": "markdown",
   "id": "3e6f503e",
   "metadata": {},
   "source": [
    "`np.zeros(shape, dtype=np.float64)`"
   ]
  },
  {
   "cell_type": "code",
   "execution_count": 11,
   "id": "3315e540",
   "metadata": {},
   "outputs": [
    {
     "data": {
      "text/plain": [
       "array([[0., 0., 0.],\n",
       "       [0., 0., 0.]])"
      ]
     },
     "execution_count": 11,
     "metadata": {},
     "output_type": "execute_result"
    }
   ],
   "source": [
    "np.zeros((2, 3))"
   ]
  },
  {
   "cell_type": "markdown",
   "id": "421a674f",
   "metadata": {},
   "source": [
    "`np.zeros_like(a, dtype=None)`"
   ]
  },
  {
   "cell_type": "code",
   "execution_count": 12,
   "id": "8bab7e8e",
   "metadata": {},
   "outputs": [
    {
     "data": {
      "text/plain": [
       "array([0, 0, 0])"
      ]
     },
     "execution_count": 12,
     "metadata": {},
     "output_type": "execute_result"
    }
   ],
   "source": [
    "a = np.arange(3)\n",
    "np.zeros_like(a)"
   ]
  },
  {
   "cell_type": "code",
   "execution_count": 13,
   "id": "ceeaa729",
   "metadata": {},
   "outputs": [
    {
     "data": {
      "text/plain": [
       "array([0., 0., 0.])"
      ]
     },
     "execution_count": 13,
     "metadata": {},
     "output_type": "execute_result"
    }
   ],
   "source": [
    "a = np.arange(3.0)\n",
    "np.zeros_like(a)"
   ]
  },
  {
   "cell_type": "markdown",
   "id": "26ff838f",
   "metadata": {},
   "source": [
    "`np.ones(shape, dtype=np.float64)`"
   ]
  },
  {
   "cell_type": "code",
   "execution_count": 14,
   "id": "79cba799",
   "metadata": {},
   "outputs": [
    {
     "data": {
      "text/plain": [
       "array([[1., 1., 1.],\n",
       "       [1., 1., 1.]])"
      ]
     },
     "execution_count": 14,
     "metadata": {},
     "output_type": "execute_result"
    }
   ],
   "source": [
    "np.ones((2, 3))"
   ]
  },
  {
   "cell_type": "markdown",
   "id": "625fbb53",
   "metadata": {},
   "source": [
    "`np.ones_like(a, dtype=None)`"
   ]
  },
  {
   "cell_type": "code",
   "execution_count": 15,
   "id": "d3afaf75",
   "metadata": {},
   "outputs": [
    {
     "data": {
      "text/plain": [
       "array([1, 1, 1])"
      ]
     },
     "execution_count": 15,
     "metadata": {},
     "output_type": "execute_result"
    }
   ],
   "source": [
    "a = np.arange(3)\n",
    "np.ones_like(a)"
   ]
  },
  {
   "cell_type": "code",
   "execution_count": 16,
   "id": "c4254f9a",
   "metadata": {},
   "outputs": [
    {
     "data": {
      "text/plain": [
       "array([1., 1., 1.])"
      ]
     },
     "execution_count": 16,
     "metadata": {},
     "output_type": "execute_result"
    }
   ],
   "source": [
    "a = np.arange(3.0)\n",
    "np.ones_like(a)"
   ]
  },
  {
   "cell_type": "markdown",
   "id": "8a3f35be",
   "metadata": {},
   "source": [
    "`np.empty(shape, dtype=np.float64)`"
   ]
  },
  {
   "cell_type": "code",
   "execution_count": 17,
   "id": "ea256c52",
   "metadata": {},
   "outputs": [
    {
     "data": {
      "text/plain": [
       "array([[1., 1., 1.],\n",
       "       [1., 1., 1.]])"
      ]
     },
     "execution_count": 17,
     "metadata": {},
     "output_type": "execute_result"
    }
   ],
   "source": [
    "np.empty((2, 3))"
   ]
  },
  {
   "cell_type": "markdown",
   "id": "b8d18916",
   "metadata": {},
   "source": [
    "`np.empty_like(prototype, dtype=None)`"
   ]
  },
  {
   "cell_type": "code",
   "execution_count": 18,
   "id": "d606838a",
   "metadata": {},
   "outputs": [
    {
     "data": {
      "text/plain": [
       "array([                  0, 4607182418800017408, 4611686018427387904])"
      ]
     },
     "execution_count": 18,
     "metadata": {},
     "output_type": "execute_result"
    }
   ],
   "source": [
    "a = np.arange(3)\n",
    "np.empty_like(a)"
   ]
  },
  {
   "cell_type": "code",
   "execution_count": 19,
   "id": "e583bbd0",
   "metadata": {},
   "outputs": [
    {
     "data": {
      "text/plain": [
       "array([0.e+000, 5.e-324, 1.e-323])"
      ]
     },
     "execution_count": 19,
     "metadata": {},
     "output_type": "execute_result"
    }
   ],
   "source": [
    "a = np.arange(3.0)\n",
    "np.empty_like(a)"
   ]
  },
  {
   "cell_type": "markdown",
   "id": "45cc2a6a",
   "metadata": {},
   "source": [
    "`np.full(shape, fill_value, dtype=None)`"
   ]
  },
  {
   "cell_type": "code",
   "execution_count": 20,
   "id": "b8259621",
   "metadata": {},
   "outputs": [
    {
     "data": {
      "text/plain": [
       "array([[2, 2, 2],\n",
       "       [2, 2, 2]])"
      ]
     },
     "execution_count": 20,
     "metadata": {},
     "output_type": "execute_result"
    }
   ],
   "source": [
    "np.full((2, 3), 2)"
   ]
  },
  {
   "cell_type": "code",
   "execution_count": 21,
   "id": "95214608",
   "metadata": {},
   "outputs": [
    {
     "data": {
      "text/plain": [
       "array([[1, 2, 3],\n",
       "       [1, 2, 3]])"
      ]
     },
     "execution_count": 21,
     "metadata": {},
     "output_type": "execute_result"
    }
   ],
   "source": [
    "np.full((2, 3), [1, 2, 3])"
   ]
  },
  {
   "cell_type": "markdown",
   "id": "9745d13b",
   "metadata": {},
   "source": [
    "`np.full_like(a, fill_value, dtype=None)`"
   ]
  },
  {
   "cell_type": "code",
   "execution_count": 22,
   "id": "9ddde347",
   "metadata": {},
   "outputs": [
    {
     "data": {
      "text/plain": [
       "array([3, 3, 3])"
      ]
     },
     "execution_count": 22,
     "metadata": {},
     "output_type": "execute_result"
    }
   ],
   "source": [
    "a = np.arange(3)\n",
    "np.full_like(a, 3)"
   ]
  },
  {
   "cell_type": "code",
   "execution_count": 23,
   "id": "46701443",
   "metadata": {},
   "outputs": [
    {
     "data": {
      "text/plain": [
       "array([0, 0, 0])"
      ]
     },
     "execution_count": 23,
     "metadata": {},
     "output_type": "execute_result"
    }
   ],
   "source": [
    "a = np.arange(3)\n",
    "np.full_like(a, 0.5)"
   ]
  },
  {
   "cell_type": "code",
   "execution_count": 24,
   "id": "bda8a263",
   "metadata": {},
   "outputs": [
    {
     "data": {
      "text/plain": [
       "array([0.5, 0.5, 0.5])"
      ]
     },
     "execution_count": 24,
     "metadata": {},
     "output_type": "execute_result"
    }
   ],
   "source": [
    "a = np.arange(3.0)\n",
    "np.full_like(a, 0.5)"
   ]
  },
  {
   "cell_type": "markdown",
   "id": "bf221ce2",
   "metadata": {},
   "source": [
    "`np.eye(N, M=None, k=0, dtype=np.float64)`"
   ]
  },
  {
   "cell_type": "code",
   "execution_count": 25,
   "id": "f117d342",
   "metadata": {},
   "outputs": [
    {
     "data": {
      "text/plain": [
       "array([[1., 0., 0.],\n",
       "       [0., 1., 0.],\n",
       "       [0., 0., 1.]])"
      ]
     },
     "execution_count": 25,
     "metadata": {},
     "output_type": "execute_result"
    }
   ],
   "source": [
    "np.eye(3)"
   ]
  },
  {
   "cell_type": "code",
   "execution_count": 26,
   "id": "c59a5267",
   "metadata": {},
   "outputs": [
    {
     "data": {
      "text/plain": [
       "array([[1., 0.],\n",
       "       [0., 1.],\n",
       "       [0., 0.]])"
      ]
     },
     "execution_count": 26,
     "metadata": {},
     "output_type": "execute_result"
    }
   ],
   "source": [
    "np.eye(3, 2)"
   ]
  },
  {
   "cell_type": "code",
   "execution_count": 27,
   "id": "8f5499e7",
   "metadata": {},
   "outputs": [
    {
     "data": {
      "text/plain": [
       "array([[0., 1., 0.],\n",
       "       [0., 0., 1.],\n",
       "       [0., 0., 0.]])"
      ]
     },
     "execution_count": 27,
     "metadata": {},
     "output_type": "execute_result"
    }
   ],
   "source": [
    "np.eye(3, k=1)"
   ]
  },
  {
   "cell_type": "markdown",
   "id": "40d78b98",
   "metadata": {},
   "source": [
    "### 随机值填充"
   ]
  },
  {
   "cell_type": "markdown",
   "id": "4f6e9fd2",
   "metadata": {},
   "source": [
    "- `np.random.rand(d0, d1, ..., dn)`：返回服从[0,1)均匀分布的浮点数"
   ]
  },
  {
   "cell_type": "code",
   "execution_count": 28,
   "id": "67080444",
   "metadata": {},
   "outputs": [
    {
     "data": {
      "text/plain": [
       "array([0.5488135 , 0.71518937, 0.60276338])"
      ]
     },
     "execution_count": 28,
     "metadata": {},
     "output_type": "execute_result"
    }
   ],
   "source": [
    "np.random.rand(3)"
   ]
  },
  {
   "cell_type": "markdown",
   "id": "ecc405fb",
   "metadata": {},
   "source": [
    "- `np.random.uniform(low=0.0, high=1.0, size=None)`：返回服从[low,high)均匀分布的浮点数"
   ]
  },
  {
   "cell_type": "code",
   "execution_count": 29,
   "id": "80ace596",
   "metadata": {},
   "outputs": [
    {
     "data": {
      "text/plain": [
       "array([10.44883183,  9.23654799, 11.45894113])"
      ]
     },
     "execution_count": 29,
     "metadata": {},
     "output_type": "execute_result"
    }
   ],
   "source": [
    "low, high, size = 5, 15, (3,)\n",
    "# low + (high - low) * np.random.rand(*size)\n",
    "# or\n",
    "np.random.uniform(low, high, size)"
   ]
  },
  {
   "cell_type": "markdown",
   "id": "544fa956",
   "metadata": {},
   "source": [
    "- `np.random.randint(low, high=None, size=None, dtype=np.int64)`：返回服从[low,high)均匀分布的整数"
   ]
  },
  {
   "cell_type": "code",
   "execution_count": 30,
   "id": "e1d98307",
   "metadata": {},
   "outputs": [
    {
     "data": {
      "text/plain": [
       "array([0, 2, 0])"
      ]
     },
     "execution_count": 30,
     "metadata": {},
     "output_type": "execute_result"
    }
   ],
   "source": [
    "# [0, low)\n",
    "np.random.randint(3, size=3)"
   ]
  },
  {
   "cell_type": "code",
   "execution_count": 31,
   "id": "3471a833",
   "metadata": {},
   "outputs": [
    {
     "data": {
      "text/plain": [
       "array([[3, 3, 3],\n",
       "       [4, 3, 4]])"
      ]
     },
     "execution_count": 31,
     "metadata": {},
     "output_type": "execute_result"
    }
   ],
   "source": [
    "# [low, high)\n",
    "np.random.randint(3, 5, size=(2, 3))"
   ]
  },
  {
   "cell_type": "code",
   "execution_count": 32,
   "id": "e825bfd9",
   "metadata": {},
   "outputs": [
    {
     "data": {
      "text/plain": [
       "array([8, 4, 8])"
      ]
     },
     "execution_count": 32,
     "metadata": {},
     "output_type": "execute_result"
    }
   ],
   "source": [
    "# [low1, high), [low2, high) ...\n",
    "np.random.randint([2, 4, 8], 9)"
   ]
  },
  {
   "cell_type": "code",
   "execution_count": 33,
   "id": "e5f5dd61",
   "metadata": {},
   "outputs": [
    {
     "data": {
      "text/plain": [
       "array([1, 2, 6])"
      ]
     },
     "execution_count": 33,
     "metadata": {},
     "output_type": "execute_result"
    }
   ],
   "source": [
    "# [low, high1), [low, high2) ...\n",
    "np.random.randint(1, [2, 4, 8])"
   ]
  },
  {
   "cell_type": "code",
   "execution_count": 34,
   "id": "5894345d",
   "metadata": {},
   "outputs": [
    {
     "data": {
      "text/plain": [
       "array([1, 3, 6])"
      ]
     },
     "execution_count": 34,
     "metadata": {},
     "output_type": "execute_result"
    }
   ],
   "source": [
    "# [low1, high1), [low2, high2) ...\n",
    "np.random.randint([1, 3, 5], [2, 4, 8])"
   ]
  },
  {
   "cell_type": "code",
   "execution_count": 35,
   "id": "ff677fd9",
   "metadata": {},
   "outputs": [
    {
     "data": {
      "text/plain": [
       "array([[1, 4, 5],\n",
       "       [5, 6, 5]])"
      ]
     },
     "execution_count": 35,
     "metadata": {},
     "output_type": "execute_result"
    }
   ],
   "source": [
    "# [low1, high1), [low2, high1) ...\n",
    "# [low1, high2), [low2, high2) ...\n",
    "np.random.randint([1, 3, 5], [[6], [8]])"
   ]
  },
  {
   "cell_type": "markdown",
   "id": "ca963987",
   "metadata": {},
   "source": [
    "- `np.random.randn(d0, d1, ..., dn)`：返回服从N(0,1)标准正态分布的浮点数"
   ]
  },
  {
   "cell_type": "code",
   "execution_count": 36,
   "id": "50800f40",
   "metadata": {},
   "outputs": [
    {
     "data": {
      "text/plain": [
       "array([ 0.48431215,  0.57914048, -0.18158257])"
      ]
     },
     "execution_count": 36,
     "metadata": {},
     "output_type": "execute_result"
    }
   ],
   "source": [
    "np.random.randn(3)"
   ]
  },
  {
   "cell_type": "markdown",
   "id": "5bc64106",
   "metadata": {},
   "source": [
    "- `random.normal(loc=0.0, scale=1.0, size=None)`：返回服从N(loc,scale)正态分布的浮点数"
   ]
  },
  {
   "cell_type": "code",
   "execution_count": 37,
   "id": "dc54af65",
   "metadata": {},
   "outputs": [
    {
     "data": {
      "text/plain": [
       "array([3.82040926, 0.25105662, 1.55039663])"
      ]
     },
     "execution_count": 37,
     "metadata": {},
     "output_type": "execute_result"
    }
   ],
   "source": [
    "mu, sigma, size = 1, 2, (3,)\n",
    "# mu + sigma * np.random.randn(*size)\n",
    "# or\n",
    "np.random.normal(mu, sigma, size)"
   ]
  },
  {
   "cell_type": "markdown",
   "id": "d45ab41c",
   "metadata": {},
   "source": [
    "- `np.random.choice(a, size=None, replace=True, p=None)`：从数组中随机选择"
   ]
  },
  {
   "cell_type": "code",
   "execution_count": 38,
   "id": "5fb1d548",
   "metadata": {},
   "outputs": [
    {
     "data": {
      "text/plain": [
       "array([0, 1, 1])"
      ]
     },
     "execution_count": 38,
     "metadata": {},
     "output_type": "execute_result"
    }
   ],
   "source": [
    "# np.random.randint(0, 5, 3)\n",
    "# or\n",
    "np.random.choice(5, 3)"
   ]
  },
  {
   "cell_type": "code",
   "execution_count": 39,
   "id": "d0b6200e",
   "metadata": {},
   "outputs": [
    {
     "data": {
      "text/plain": [
       "array(['b', 'a', 'c'], dtype='<U1')"
      ]
     },
     "execution_count": 39,
     "metadata": {},
     "output_type": "execute_result"
    }
   ],
   "source": [
    "np.random.choice(list('abcde'), size=3)"
   ]
  },
  {
   "cell_type": "code",
   "execution_count": 40,
   "id": "a7c12838",
   "metadata": {},
   "outputs": [
    {
     "data": {
      "text/plain": [
       "array(['e', 'd', 'd'], dtype='<U1')"
      ]
     },
     "execution_count": 40,
     "metadata": {},
     "output_type": "execute_result"
    }
   ],
   "source": [
    "# 无放回\n",
    "np.random.choice(list('abcde'), size=3, replace=True)"
   ]
  },
  {
   "cell_type": "code",
   "execution_count": 41,
   "id": "2fa00256",
   "metadata": {},
   "outputs": [
    {
     "data": {
      "text/plain": [
       "array(['b', 'e', 'a', 'd', 'c'], dtype='<U1')"
      ]
     },
     "execution_count": 41,
     "metadata": {},
     "output_type": "execute_result"
    }
   ],
   "source": [
    "# 全排列\n",
    "# np.random.permutation(list('abcde'))\n",
    "# or\n",
    "np.random.choice(list('abcde'), size=5, replace=False)"
   ]
  },
  {
   "cell_type": "code",
   "execution_count": 42,
   "id": "d2d83534",
   "metadata": {},
   "outputs": [
    {
     "data": {
      "text/plain": [
       "array([['b', 'c', 'b'],\n",
       "       ['b', 'c', 'e']], dtype='<U1')"
      ]
     },
     "execution_count": 42,
     "metadata": {},
     "output_type": "execute_result"
    }
   ],
   "source": [
    "# 指定权重\n",
    "np.random.choice(list('abcde'), size=(2, 3), p=[0.1, 0.2, 0.4, 0.2, 0.1])"
   ]
  },
  {
   "cell_type": "markdown",
   "id": "41168a74",
   "metadata": {},
   "source": [
    "- `np.random.permutation(x)`：全排列"
   ]
  },
  {
   "cell_type": "code",
   "execution_count": 43,
   "id": "6d936f6b",
   "metadata": {},
   "outputs": [
    {
     "data": {
      "text/plain": [
       "array([1, 0, 2])"
      ]
     },
     "execution_count": 43,
     "metadata": {},
     "output_type": "execute_result"
    }
   ],
   "source": [
    "np.random.permutation(3)"
   ]
  },
  {
   "cell_type": "code",
   "execution_count": 44,
   "id": "aa6c4339",
   "metadata": {},
   "outputs": [
    {
     "data": {
      "text/plain": [
       "array([5, 3, 1])"
      ]
     },
     "execution_count": 44,
     "metadata": {},
     "output_type": "execute_result"
    }
   ],
   "source": [
    "np.random.permutation([1, 3, 5])"
   ]
  },
  {
   "cell_type": "markdown",
   "id": "753758c2",
   "metadata": {},
   "source": [
    "## 数组操作"
   ]
  },
  {
   "cell_type": "code",
   "execution_count": 45,
   "id": "828dfbbe",
   "metadata": {},
   "outputs": [
    {
     "data": {
      "text/plain": [
       "array([[0, 1, 2],\n",
       "       [3, 4, 5]])"
      ]
     },
     "execution_count": 45,
     "metadata": {},
     "output_type": "execute_result"
    }
   ],
   "source": [
    "a = np.arange(6).reshape(2, 3)\n",
    "a"
   ]
  },
  {
   "cell_type": "code",
   "execution_count": 46,
   "id": "d5010aa6",
   "metadata": {},
   "outputs": [
    {
     "data": {
      "text/plain": [
       "array([[3, 4, 5],\n",
       "       [6, 7, 8]])"
      ]
     },
     "execution_count": 46,
     "metadata": {},
     "output_type": "execute_result"
    }
   ],
   "source": [
    "b = np.arange(3, 9).reshape(2, 3)\n",
    "b"
   ]
  },
  {
   "cell_type": "markdown",
   "id": "ca7eebb8",
   "metadata": {},
   "source": [
    "转置"
   ]
  },
  {
   "cell_type": "code",
   "execution_count": 47,
   "id": "4545139f",
   "metadata": {},
   "outputs": [
    {
     "data": {
      "text/plain": [
       "array([[0, 3],\n",
       "       [1, 4],\n",
       "       [2, 5]])"
      ]
     },
     "execution_count": 47,
     "metadata": {},
     "output_type": "execute_result"
    }
   ],
   "source": [
    "a.T"
   ]
  },
  {
   "cell_type": "code",
   "execution_count": 48,
   "id": "1ad63db0",
   "metadata": {},
   "outputs": [
    {
     "data": {
      "text/plain": [
       "array([[0, 3],\n",
       "       [1, 4],\n",
       "       [2, 5]])"
      ]
     },
     "execution_count": 48,
     "metadata": {},
     "output_type": "execute_result"
    }
   ],
   "source": [
    "np.transpose(a)"
   ]
  },
  {
   "cell_type": "markdown",
   "id": "e7b1c291",
   "metadata": {},
   "source": [
    "### 合并"
   ]
  },
  {
   "cell_type": "markdown",
   "id": "c7639e21",
   "metadata": {},
   "source": [
    "上下合并（行合并）：除`axis=0`以外，其他维度需相等。"
   ]
  },
  {
   "cell_type": "code",
   "execution_count": 49,
   "id": "2937d67a",
   "metadata": {},
   "outputs": [
    {
     "data": {
      "text/plain": [
       "array([[0, 1, 2],\n",
       "       [3, 4, 5],\n",
       "       [3, 4, 5],\n",
       "       [6, 7, 8]])"
      ]
     },
     "execution_count": 49,
     "metadata": {},
     "output_type": "execute_result"
    }
   ],
   "source": [
    "np.r_[a, b]"
   ]
  },
  {
   "cell_type": "markdown",
   "id": "d78e7d4a",
   "metadata": {},
   "source": [
    "`numpy.row_stack(tup)`"
   ]
  },
  {
   "cell_type": "code",
   "execution_count": 50,
   "id": "16e9417f",
   "metadata": {},
   "outputs": [
    {
     "data": {
      "text/plain": [
       "array([[0, 1, 2],\n",
       "       [3, 4, 5],\n",
       "       [3, 4, 5],\n",
       "       [6, 7, 8]])"
      ]
     },
     "execution_count": 50,
     "metadata": {},
     "output_type": "execute_result"
    }
   ],
   "source": [
    "np.row_stack((a, b))"
   ]
  },
  {
   "cell_type": "markdown",
   "id": "138e10b6",
   "metadata": {},
   "source": [
    "左右合并（列合并）除`axis=1`以外，其他维度需相等。"
   ]
  },
  {
   "cell_type": "code",
   "execution_count": 51,
   "id": "f76250d0",
   "metadata": {},
   "outputs": [
    {
     "data": {
      "text/plain": [
       "array([[0, 1, 2, 3, 4, 5],\n",
       "       [3, 4, 5, 6, 7, 8]])"
      ]
     },
     "execution_count": 51,
     "metadata": {},
     "output_type": "execute_result"
    }
   ],
   "source": [
    "np.c_[a, b]"
   ]
  },
  {
   "cell_type": "markdown",
   "id": "16b687fd",
   "metadata": {},
   "source": [
    "`numpy.column_stack(tup)`"
   ]
  },
  {
   "cell_type": "code",
   "execution_count": 52,
   "id": "9aa03543",
   "metadata": {},
   "outputs": [
    {
     "data": {
      "text/plain": [
       "array([[0, 1, 2, 3, 4, 5],\n",
       "       [3, 4, 5, 6, 7, 8]])"
      ]
     },
     "execution_count": 52,
     "metadata": {},
     "output_type": "execute_result"
    }
   ],
   "source": [
    "np.column_stack((a, b))"
   ]
  },
  {
   "cell_type": "markdown",
   "id": "8b0aa9a0",
   "metadata": {},
   "source": [
    "### 维度变换"
   ]
  },
  {
   "cell_type": "code",
   "execution_count": 53,
   "id": "9d0887cc",
   "metadata": {},
   "outputs": [
    {
     "data": {
      "text/plain": [
       "array([[0, 1, 2, 3],\n",
       "       [4, 5, 6, 7]])"
      ]
     },
     "execution_count": 53,
     "metadata": {},
     "output_type": "execute_result"
    }
   ],
   "source": [
    "a = np.arange(8).reshape(2, 4)\n",
    "a"
   ]
  },
  {
   "cell_type": "markdown",
   "id": "869ce018",
   "metadata": {},
   "source": [
    "- `ndarray.reshape(shape, order='C')`\n",
    "- `np.reshape(a, newshape, order='C')`"
   ]
  },
  {
   "cell_type": "code",
   "execution_count": 54,
   "id": "1c4062ba",
   "metadata": {},
   "outputs": [
    {
     "data": {
      "text/plain": [
       "array([[0, 1],\n",
       "       [2, 3],\n",
       "       [4, 5],\n",
       "       [6, 7]])"
      ]
     },
     "execution_count": 54,
     "metadata": {},
     "output_type": "execute_result"
    }
   ],
   "source": [
    "# 按照行读取和填充\n",
    "a.reshape((4, 2), order='C')"
   ]
  },
  {
   "cell_type": "code",
   "execution_count": 55,
   "id": "98b1158b",
   "metadata": {},
   "outputs": [
    {
     "data": {
      "text/plain": [
       "array([[0, 2],\n",
       "       [4, 6],\n",
       "       [1, 3],\n",
       "       [5, 7]])"
      ]
     },
     "execution_count": 55,
     "metadata": {},
     "output_type": "execute_result"
    }
   ],
   "source": [
    "# 按照列读取和填充\n",
    "a.reshape((4, 2), order='F')"
   ]
  },
  {
   "cell_type": "code",
   "execution_count": 56,
   "id": "c2429786",
   "metadata": {},
   "outputs": [
    {
     "data": {
      "text/plain": [
       "array([[0, 1],\n",
       "       [2, 3],\n",
       "       [4, 5],\n",
       "       [6, 7]])"
      ]
     },
     "execution_count": 56,
     "metadata": {},
     "output_type": "execute_result"
    }
   ],
   "source": [
    "# 自动计算某个维度的大小\n",
    "a.reshape((4, -1))"
   ]
  },
  {
   "cell_type": "code",
   "execution_count": 57,
   "id": "1525aeb5",
   "metadata": {},
   "outputs": [
    {
     "data": {
      "text/plain": [
       "array([[0, 1, 2, 3, 4, 5, 6, 7]])"
      ]
     },
     "execution_count": 57,
     "metadata": {},
     "output_type": "execute_result"
    }
   ],
   "source": [
    "# 自动计算某个维度的大小\n",
    "a.reshape((-1, 8))"
   ]
  },
  {
   "cell_type": "code",
   "execution_count": 58,
   "id": "17eedf5f",
   "metadata": {
    "scrolled": true
   },
   "outputs": [
    {
     "data": {
      "text/plain": [
       "array([0, 1, 2, 3, 4, 5, 6, 7])"
      ]
     },
     "execution_count": 58,
     "metadata": {},
     "output_type": "execute_result"
    }
   ],
   "source": [
    "# 降维，转为一维数组\n",
    "a.reshape(-1)"
   ]
  },
  {
   "cell_type": "markdown",
   "id": "0458d8ba",
   "metadata": {},
   "source": [
    "### 切片与索引"
   ]
  },
  {
   "cell_type": "code",
   "execution_count": 59,
   "id": "82a7c15e",
   "metadata": {},
   "outputs": [
    {
     "data": {
      "text/plain": [
       "array([[0, 1, 2],\n",
       "       [3, 4, 5],\n",
       "       [6, 7, 8]])"
      ]
     },
     "execution_count": 59,
     "metadata": {},
     "output_type": "execute_result"
    }
   ],
   "source": [
    "a = np.arange(9).reshape(3, 3)\n",
    "a"
   ]
  },
  {
   "cell_type": "code",
   "execution_count": 60,
   "id": "af829eb8",
   "metadata": {},
   "outputs": [
    {
     "data": {
      "text/plain": [
       "array([[0, 2],\n",
       "       [3, 5]])"
      ]
     },
     "execution_count": 60,
     "metadata": {},
     "output_type": "execute_result"
    }
   ],
   "source": [
    "# 切片索引、列表索引\n",
    "a[:-1, [0, 2]]"
   ]
  },
  {
   "cell_type": "code",
   "execution_count": 61,
   "id": "ff6bdbce",
   "metadata": {},
   "outputs": [
    {
     "data": {
      "text/plain": [
       "array([[3, 5],\n",
       "       [6, 8]])"
      ]
     },
     "execution_count": 61,
     "metadata": {},
     "output_type": "execute_result"
    }
   ],
   "source": [
    "# 列表索引、布尔索引\n",
    "a[np.ix_([1, 2], [True, False, True])]"
   ]
  },
  {
   "cell_type": "code",
   "execution_count": 62,
   "id": "dbe6e4dc",
   "metadata": {},
   "outputs": [
    {
     "data": {
      "text/plain": [
       "array([0, 2, 4, 6, 8])"
      ]
     },
     "execution_count": 62,
     "metadata": {},
     "output_type": "execute_result"
    }
   ],
   "source": [
    "# 一维数组布尔索引\n",
    "a = a.reshape(-1)\n",
    "a[a % 2 == 0]"
   ]
  },
  {
   "cell_type": "markdown",
   "id": "2c4e1084",
   "metadata": {},
   "source": [
    "### 常用函数"
   ]
  },
  {
   "cell_type": "markdown",
   "id": "a7b141cb",
   "metadata": {},
   "source": [
    "`np.where(condition, [x, y])`：按条件筛选元素\n",
    "\n",
    "等价于\n",
    "\n",
    "`[xv if c else yv for c, xv, yv in zip(condition, x, y)]`"
   ]
  },
  {
   "cell_type": "code",
   "execution_count": 63,
   "id": "08ca3ef1",
   "metadata": {},
   "outputs": [
    {
     "data": {
      "text/plain": [
       "array([0, 1, 2, 3, 4, 5, 6, 7, 8, 9])"
      ]
     },
     "execution_count": 63,
     "metadata": {},
     "output_type": "execute_result"
    }
   ],
   "source": [
    "a = np.arange(10)\n",
    "a"
   ]
  },
  {
   "cell_type": "code",
   "execution_count": 64,
   "id": "62e86382",
   "metadata": {},
   "outputs": [
    {
     "data": {
      "text/plain": [
       "array([ 0,  2,  2,  6,  4, 10,  6, 14,  8, 18])"
      ]
     },
     "execution_count": 64,
     "metadata": {},
     "output_type": "execute_result"
    }
   ],
   "source": [
    "# 一维数组\n",
    "np.where(a % 2 == 0, a, 2 * a)"
   ]
  },
  {
   "cell_type": "code",
   "execution_count": 65,
   "id": "f883ecb3",
   "metadata": {},
   "outputs": [
    {
     "data": {
      "text/plain": [
       "array([[1, 8],\n",
       "       [7, 4]])"
      ]
     },
     "execution_count": 65,
     "metadata": {},
     "output_type": "execute_result"
    }
   ],
   "source": [
    "# 多维数组\n",
    "np.where([[True, False],\n",
    "          [False, True]],\n",
    "         [[1, 2],\n",
    "          [3, 4]],\n",
    "         [[9, 8],\n",
    "          [7, 6]])"
   ]
  },
  {
   "cell_type": "code",
   "execution_count": 66,
   "id": "ed2d0760",
   "metadata": {},
   "outputs": [
    {
     "data": {
      "text/plain": [
       "(array([[0],\n",
       "        [1],\n",
       "        [2]]),\n",
       " array([[0, 1, 2, 3]]))"
      ]
     },
     "execution_count": 66,
     "metadata": {},
     "output_type": "execute_result"
    }
   ],
   "source": [
    "x, y = np.ogrid[:3, :4]\n",
    "x, y"
   ]
  },
  {
   "cell_type": "code",
   "execution_count": 67,
   "id": "3e7f7d3d",
   "metadata": {},
   "outputs": [
    {
     "data": {
      "text/plain": [
       "array([[10,  0,  0,  0],\n",
       "       [10, 11,  1,  1],\n",
       "       [10, 11, 12,  2]])"
      ]
     },
     "execution_count": 67,
     "metadata": {},
     "output_type": "execute_result"
    }
   ],
   "source": [
    "# 广播\n",
    "np.where(x < y, x, 10 + y)"
   ]
  },
  {
   "cell_type": "code",
   "execution_count": 68,
   "id": "d000052c",
   "metadata": {},
   "outputs": [
    {
     "data": {
      "text/plain": [
       "array([[ 0,  1,  2],\n",
       "       [ 0,  2, -1],\n",
       "       [ 0,  3, -1]])"
      ]
     },
     "execution_count": 68,
     "metadata": {},
     "output_type": "execute_result"
    }
   ],
   "source": [
    "# 广播\n",
    "a = np.array([[0, 1, 2],\n",
    "              [0, 2, 4],\n",
    "              [0, 3, 6]])\n",
    "np.where(a < 4, a, -1)"
   ]
  },
  {
   "cell_type": "markdown",
   "id": "8a5bdea1",
   "metadata": {},
   "source": [
    "- `np.nonzero(a)`：返回非零值的索引\n",
    "- `ndarray.nonzero()`"
   ]
  },
  {
   "cell_type": "code",
   "execution_count": 69,
   "id": "04d9e492",
   "metadata": {},
   "outputs": [
    {
     "data": {
      "text/plain": [
       "array([[3, 0, 0],\n",
       "       [0, 4, 0],\n",
       "       [5, 6, 0]])"
      ]
     },
     "execution_count": 69,
     "metadata": {},
     "output_type": "execute_result"
    }
   ],
   "source": [
    "x = np.array([[3, 0, 0], [0, 4, 0], [5, 6, 0]])\n",
    "x"
   ]
  },
  {
   "cell_type": "code",
   "execution_count": 70,
   "id": "3d0fdc63",
   "metadata": {},
   "outputs": [
    {
     "data": {
      "text/plain": [
       "(array([0, 1, 2, 2]), array([0, 1, 0, 1]))"
      ]
     },
     "execution_count": 70,
     "metadata": {},
     "output_type": "execute_result"
    }
   ],
   "source": [
    "np.nonzero(x)"
   ]
  },
  {
   "cell_type": "code",
   "execution_count": 71,
   "id": "d8b87bf9",
   "metadata": {},
   "outputs": [
    {
     "data": {
      "text/plain": [
       "array([[0, 0],\n",
       "       [1, 1],\n",
       "       [2, 0],\n",
       "       [2, 1]])"
      ]
     },
     "execution_count": 71,
     "metadata": {},
     "output_type": "execute_result"
    }
   ],
   "source": [
    "np.transpose(np.nonzero(x))"
   ]
  },
  {
   "cell_type": "code",
   "execution_count": 72,
   "id": "5b9528b6",
   "metadata": {},
   "outputs": [
    {
     "data": {
      "text/plain": [
       "array([3, 4, 5, 6])"
      ]
     },
     "execution_count": 72,
     "metadata": {},
     "output_type": "execute_result"
    }
   ],
   "source": [
    "x[np.nonzero(x)]"
   ]
  },
  {
   "cell_type": "markdown",
   "id": "d7718b3a",
   "metadata": {},
   "source": [
    "- `np.argmax(a, axis=None)`：返回最大值的索引\n",
    "- `np.argmin(a, axis=None)`：返回最小值的索引"
   ]
  },
  {
   "cell_type": "code",
   "execution_count": 73,
   "id": "7a200f28",
   "metadata": {},
   "outputs": [
    {
     "data": {
      "text/plain": [
       "array([[2, 1, 3],\n",
       "       [5, 0, 4]])"
      ]
     },
     "execution_count": 73,
     "metadata": {},
     "output_type": "execute_result"
    }
   ],
   "source": [
    "a = np.array([[2, 1, 3],\n",
    "              [5, 0, 4]])\n",
    "a"
   ]
  },
  {
   "cell_type": "code",
   "execution_count": 74,
   "id": "c109e83f",
   "metadata": {},
   "outputs": [
    {
     "data": {
      "text/plain": [
       "3"
      ]
     },
     "execution_count": 74,
     "metadata": {},
     "output_type": "execute_result"
    }
   ],
   "source": [
    "np.argmax(a)"
   ]
  },
  {
   "cell_type": "code",
   "execution_count": 75,
   "id": "93a5da06",
   "metadata": {},
   "outputs": [
    {
     "data": {
      "text/plain": [
       "4"
      ]
     },
     "execution_count": 75,
     "metadata": {},
     "output_type": "execute_result"
    }
   ],
   "source": [
    "np.argmin(a)"
   ]
  },
  {
   "cell_type": "code",
   "execution_count": 76,
   "id": "a5ed5071",
   "metadata": {},
   "outputs": [
    {
     "data": {
      "text/plain": [
       "array([1, 0, 1])"
      ]
     },
     "execution_count": 76,
     "metadata": {},
     "output_type": "execute_result"
    }
   ],
   "source": [
    "# 按列\n",
    "np.argmax(a, axis=0)"
   ]
  },
  {
   "cell_type": "code",
   "execution_count": 77,
   "id": "ab761567",
   "metadata": {},
   "outputs": [
    {
     "data": {
      "text/plain": [
       "array([2, 0])"
      ]
     },
     "execution_count": 77,
     "metadata": {},
     "output_type": "execute_result"
    }
   ],
   "source": [
    "# 按行\n",
    "np.argmax(a, axis=1)"
   ]
  },
  {
   "cell_type": "code",
   "execution_count": 78,
   "id": "55116ddf",
   "metadata": {},
   "outputs": [
    {
     "data": {
      "text/plain": [
       "array([0, 1, 0])"
      ]
     },
     "execution_count": 78,
     "metadata": {},
     "output_type": "execute_result"
    }
   ],
   "source": [
    "# 按列\n",
    "np.argmin(a, axis=0)"
   ]
  },
  {
   "cell_type": "code",
   "execution_count": 79,
   "id": "fd46ad92",
   "metadata": {},
   "outputs": [
    {
     "data": {
      "text/plain": [
       "array([1, 1])"
      ]
     },
     "execution_count": 79,
     "metadata": {},
     "output_type": "execute_result"
    }
   ],
   "source": [
    "# 按行\n",
    "np.argmin(a, axis=1)"
   ]
  },
  {
   "cell_type": "markdown",
   "id": "8904773a",
   "metadata": {},
   "source": [
    "- `np.any(a, axis=None)`：存在非零\n",
    "- `np.all(a, axis=None)`：全部非零"
   ]
  },
  {
   "cell_type": "code",
   "execution_count": 80,
   "id": "772511c3",
   "metadata": {},
   "outputs": [
    {
     "data": {
      "text/plain": [
       "(True, False)"
      ]
     },
     "execution_count": 80,
     "metadata": {},
     "output_type": "execute_result"
    }
   ],
   "source": [
    "a = [[True, False],\n",
    "     [True, True]]\n",
    "np.any(a), np.all(a)"
   ]
  },
  {
   "cell_type": "code",
   "execution_count": 81,
   "id": "925f24a2",
   "metadata": {},
   "outputs": [
    {
     "data": {
      "text/plain": [
       "(array([ True,  True]), array([ True, False]))"
      ]
     },
     "execution_count": 81,
     "metadata": {},
     "output_type": "execute_result"
    }
   ],
   "source": [
    "# 按列寻找\n",
    "np.any(a, axis=0), np.all(a, axis=0)"
   ]
  },
  {
   "cell_type": "code",
   "execution_count": 82,
   "id": "33ecee34",
   "metadata": {},
   "outputs": [
    {
     "data": {
      "text/plain": [
       "(array([ True,  True]), array([False,  True]))"
      ]
     },
     "execution_count": 82,
     "metadata": {},
     "output_type": "execute_result"
    }
   ],
   "source": [
    "# 按行寻找\n",
    "np.any(a, axis=1), np.all(a, axis=1)"
   ]
  },
  {
   "cell_type": "markdown",
   "id": "86c1ede7",
   "metadata": {},
   "source": [
    "累加\n",
    "\n",
    "- `np.cumsum(a, axis=None, dtype=None)`\n",
    "- `ndarray.cumsum(axis=None, dtype=None)`"
   ]
  },
  {
   "cell_type": "code",
   "execution_count": 83,
   "id": "e269fab1",
   "metadata": {},
   "outputs": [
    {
     "data": {
      "text/plain": [
       "array([[0, 1, 2],\n",
       "       [3, 4, 5]])"
      ]
     },
     "execution_count": 83,
     "metadata": {},
     "output_type": "execute_result"
    }
   ],
   "source": [
    "a = np.arange(6).reshape(2, 3)\n",
    "a"
   ]
  },
  {
   "cell_type": "code",
   "execution_count": 84,
   "id": "203e5de0",
   "metadata": {},
   "outputs": [
    {
     "data": {
      "text/plain": [
       "array([ 0,  1,  3,  6, 10, 15])"
      ]
     },
     "execution_count": 84,
     "metadata": {},
     "output_type": "execute_result"
    }
   ],
   "source": [
    "np.cumsum(a)"
   ]
  },
  {
   "cell_type": "code",
   "execution_count": 85,
   "id": "d70b3b8a",
   "metadata": {},
   "outputs": [
    {
     "data": {
      "text/plain": [
       "array([[0, 1, 2],\n",
       "       [3, 5, 7]])"
      ]
     },
     "execution_count": 85,
     "metadata": {},
     "output_type": "execute_result"
    }
   ],
   "source": [
    "# 按列\n",
    "np.cumsum(a, axis=0)"
   ]
  },
  {
   "cell_type": "code",
   "execution_count": 86,
   "id": "60379447",
   "metadata": {},
   "outputs": [
    {
     "data": {
      "text/plain": [
       "array([[ 0,  1,  3],\n",
       "       [ 3,  7, 12]])"
      ]
     },
     "execution_count": 86,
     "metadata": {},
     "output_type": "execute_result"
    }
   ],
   "source": [
    "# 按行\n",
    "np.cumsum(a, axis=1)"
   ]
  },
  {
   "cell_type": "markdown",
   "id": "70281cd7",
   "metadata": {},
   "source": [
    "累乘\n",
    "\n",
    "- `np.cumprod(a, axis=None, dtype=None)`\n",
    "- `ndarray.cumprod(axis=None, dtype=None)`"
   ]
  },
  {
   "cell_type": "code",
   "execution_count": 87,
   "id": "877a97c1",
   "metadata": {},
   "outputs": [
    {
     "data": {
      "text/plain": [
       "array([[1, 2, 3],\n",
       "       [4, 5, 6]])"
      ]
     },
     "execution_count": 87,
     "metadata": {},
     "output_type": "execute_result"
    }
   ],
   "source": [
    "a = np.arange(1, 7).reshape(2, 3)\n",
    "a"
   ]
  },
  {
   "cell_type": "code",
   "execution_count": 88,
   "id": "d6f7e43f",
   "metadata": {},
   "outputs": [
    {
     "data": {
      "text/plain": [
       "array([  1,   2,   6,  24, 120, 720])"
      ]
     },
     "execution_count": 88,
     "metadata": {},
     "output_type": "execute_result"
    }
   ],
   "source": [
    "np.cumprod(a)"
   ]
  },
  {
   "cell_type": "code",
   "execution_count": 89,
   "id": "6ca8bc35",
   "metadata": {},
   "outputs": [
    {
     "data": {
      "text/plain": [
       "array([[ 1,  2,  3],\n",
       "       [ 4, 10, 18]])"
      ]
     },
     "execution_count": 89,
     "metadata": {},
     "output_type": "execute_result"
    }
   ],
   "source": [
    "# 按列\n",
    "np.cumprod(a, axis=0)"
   ]
  },
  {
   "cell_type": "code",
   "execution_count": 90,
   "id": "edac35b8",
   "metadata": {},
   "outputs": [
    {
     "data": {
      "text/plain": [
       "array([[  1,   2,   6],\n",
       "       [  4,  20, 120]])"
      ]
     },
     "execution_count": 90,
     "metadata": {},
     "output_type": "execute_result"
    }
   ],
   "source": [
    "# 按行\n",
    "np.cumprod(a, axis=1)"
   ]
  },
  {
   "cell_type": "markdown",
   "id": "8bc2520c",
   "metadata": {},
   "source": [
    "差分\n",
    "\n",
    "- `np.diff(a, n=1, axis=-1)`"
   ]
  },
  {
   "cell_type": "code",
   "execution_count": 91,
   "id": "db8f9d02",
   "metadata": {},
   "outputs": [
    {
     "data": {
      "text/plain": [
       "array([[3, 1, 5, 2, 7],\n",
       "       [1, 6, 3, 8, 4]])"
      ]
     },
     "execution_count": 91,
     "metadata": {},
     "output_type": "execute_result"
    }
   ],
   "source": [
    "x = np.array([[3, 1, 5, 2, 7],\n",
    "              [1, 6, 3, 8, 4]])\n",
    "x"
   ]
  },
  {
   "cell_type": "code",
   "execution_count": 92,
   "id": "8fb4d4c3",
   "metadata": {},
   "outputs": [
    {
     "data": {
      "text/plain": [
       "array([[-2,  4, -3,  5],\n",
       "       [ 5, -3,  5, -4]])"
      ]
     },
     "execution_count": 92,
     "metadata": {},
     "output_type": "execute_result"
    }
   ],
   "source": [
    "# 一阶差分\n",
    "np.diff(x)"
   ]
  },
  {
   "cell_type": "code",
   "execution_count": 93,
   "id": "ce7b9d89",
   "metadata": {},
   "outputs": [
    {
     "data": {
      "text/plain": [
       "array([[ 6, -7,  8],\n",
       "       [-8,  8, -9]])"
      ]
     },
     "execution_count": 93,
     "metadata": {},
     "output_type": "execute_result"
    }
   ],
   "source": [
    "# 二阶差分\n",
    "np.diff(x, n=2)"
   ]
  },
  {
   "cell_type": "code",
   "execution_count": 94,
   "id": "89b25e49",
   "metadata": {},
   "outputs": [
    {
     "data": {
      "text/plain": [
       "array([[-2,  5, -2,  6, -3]])"
      ]
     },
     "execution_count": 94,
     "metadata": {},
     "output_type": "execute_result"
    }
   ],
   "source": [
    "# 按列\n",
    "np.diff(x, axis=0)"
   ]
  },
  {
   "cell_type": "code",
   "execution_count": 95,
   "id": "4d9626d6",
   "metadata": {},
   "outputs": [
    {
     "data": {
      "text/plain": [
       "array(['2021-12-23', '2021-12-24', '2021-12-25', '2021-12-26'],\n",
       "      dtype='datetime64[D]')"
      ]
     },
     "execution_count": 95,
     "metadata": {},
     "output_type": "execute_result"
    }
   ],
   "source": [
    "# 时间戳\n",
    "x = np.arange('2021-12-23', '2021-12-27', dtype=np.datetime64)\n",
    "x"
   ]
  },
  {
   "cell_type": "code",
   "execution_count": 96,
   "id": "af17038b",
   "metadata": {},
   "outputs": [
    {
     "data": {
      "text/plain": [
       "array([1, 1, 1], dtype='timedelta64[D]')"
      ]
     },
     "execution_count": 96,
     "metadata": {},
     "output_type": "execute_result"
    }
   ],
   "source": [
    "np.diff(x)"
   ]
  },
  {
   "cell_type": "markdown",
   "id": "ef430938",
   "metadata": {},
   "source": [
    "#### 统计函数"
   ]
  },
  {
   "cell_type": "markdown",
   "id": "ba95814a",
   "metadata": {},
   "source": [
    "最大值\n",
    "\n",
    "- `ndarray.max(axis=None)`\n",
    "- `np.amax(a, axis=None)`\n",
    "- `np.nanmax(a, axis=None)`\n",
    "\n",
    "最小值\n",
    "\n",
    "- `ndarray.min(axis=None)`\n",
    "- `np.amin(a, axis=None)`\n",
    "- `np.nanmin(a, axis=None)`\n",
    "\n",
    "平均值\n",
    "\n",
    "- `ndarray.mean(axis=None, dtype=None)`\n",
    "- `np.mean(a, axis=None, dtype=None)`\n",
    "- `np.nanmean(a, axis=None, dtype=None)`\n",
    "\n",
    "中位数\n",
    "\n",
    "- `numpy.median(a, axis=None)`\n",
    "- `numpy.nanmedian(a, axis=None)`\n",
    "\n",
    "标准差\n",
    "\n",
    "- `ndarray.std(axis=None, dtype=None)`\n",
    "- `np.std(a, axis=None, dtype=None)`\n",
    "- `np.nanstd(a, axis=None, dtype=None)`\n",
    "\n",
    "方差\n",
    "\n",
    "- `ndarray.var(axis=None, dtype=None)`\n",
    "- `np.var(a, axis=None, dtype=None)`\n",
    "- `np.nanvar(a, axis=None, dtype=None)`\n",
    "\n",
    "求和\n",
    "\n",
    "- `ndarray.sum(axis=None, dtype=None)`\n",
    "- `np.sum(a, axis=None, dtype=None)`\n",
    "- `np.nansum(a, axis=None, dtype=None)`\n",
    "\n",
    "分位数\n",
    "\n",
    "- `np.quantile(a, q, axis=None)`\n",
    "- `np.nanquantile(a, q, axis=None)`\n",
    "\n",
    "相关系数矩阵\n",
    "\n",
    "- `np.corrcoef(x, y=None, dtype=None)`\n",
    "\n",
    "协方差矩阵\n",
    "\n",
    "- `np.cov(m, y=None, dtype=None)`"
   ]
  },
  {
   "cell_type": "code",
   "execution_count": 97,
   "id": "e61c81c8",
   "metadata": {},
   "outputs": [
    {
     "data": {
      "text/plain": [
       "array([[10,  7,  4],\n",
       "       [ 3,  2,  1]])"
      ]
     },
     "execution_count": 97,
     "metadata": {},
     "output_type": "execute_result"
    }
   ],
   "source": [
    "a = np.array([[10, 7, 4],\n",
    "              [3, 2, 1]])\n",
    "a"
   ]
  },
  {
   "cell_type": "code",
   "execution_count": 98,
   "id": "2d35b7f3",
   "metadata": {},
   "outputs": [
    {
     "data": {
      "text/plain": [
       "3.5"
      ]
     },
     "execution_count": 98,
     "metadata": {},
     "output_type": "execute_result"
    }
   ],
   "source": [
    "# np.median(a)\n",
    "np.quantile(a, 0.5)"
   ]
  },
  {
   "cell_type": "code",
   "execution_count": 99,
   "id": "67196d1e",
   "metadata": {},
   "outputs": [
    {
     "data": {
      "text/plain": [
       "array([6.5, 4.5, 2.5])"
      ]
     },
     "execution_count": 99,
     "metadata": {},
     "output_type": "execute_result"
    }
   ],
   "source": [
    "# 按列\n",
    "np.quantile(a, 0.5, axis=0)"
   ]
  },
  {
   "cell_type": "code",
   "execution_count": 100,
   "id": "006715d8",
   "metadata": {},
   "outputs": [
    {
     "data": {
      "text/plain": [
       "array([7., 2.])"
      ]
     },
     "execution_count": 100,
     "metadata": {},
     "output_type": "execute_result"
    }
   ],
   "source": [
    "# 按行\n",
    "np.quantile(a, 0.5, axis=1)"
   ]
  },
  {
   "cell_type": "markdown",
   "id": "489c3009",
   "metadata": {},
   "source": [
    "### 广播机制"
   ]
  },
  {
   "cell_type": "markdown",
   "id": "d3beffd9",
   "metadata": {},
   "source": [
    "#### 标量和数组"
   ]
  },
  {
   "cell_type": "code",
   "execution_count": 101,
   "id": "e04e67e4",
   "metadata": {},
   "outputs": [
    {
     "data": {
      "text/plain": [
       "array([[1, 2],\n",
       "       [3, 4]])"
      ]
     },
     "execution_count": 101,
     "metadata": {},
     "output_type": "execute_result"
    }
   ],
   "source": [
    "a = np.arange(1, 5).reshape(2, 2)\n",
    "a"
   ]
  },
  {
   "cell_type": "code",
   "execution_count": 102,
   "id": "66b489cd",
   "metadata": {},
   "outputs": [
    {
     "data": {
      "text/plain": [
       "array([[2, 3],\n",
       "       [4, 5]])"
      ]
     },
     "execution_count": 102,
     "metadata": {},
     "output_type": "execute_result"
    }
   ],
   "source": [
    "a + 1"
   ]
  },
  {
   "cell_type": "code",
   "execution_count": 103,
   "id": "74ba17ee",
   "metadata": {},
   "outputs": [
    {
     "data": {
      "text/plain": [
       "array([[2, 4],\n",
       "       [6, 8]])"
      ]
     },
     "execution_count": 103,
     "metadata": {},
     "output_type": "execute_result"
    }
   ],
   "source": [
    "a * 2"
   ]
  },
  {
   "cell_type": "code",
   "execution_count": 104,
   "id": "c7b6c663",
   "metadata": {},
   "outputs": [
    {
     "data": {
      "text/plain": [
       "array([[1.        , 0.5       ],\n",
       "       [0.33333333, 0.25      ]])"
      ]
     },
     "execution_count": 104,
     "metadata": {},
     "output_type": "execute_result"
    }
   ],
   "source": [
    "1.0 / a"
   ]
  },
  {
   "cell_type": "markdown",
   "id": "c0d60db2",
   "metadata": {},
   "source": [
    "#### 维度不同的数组"
   ]
  },
  {
   "cell_type": "code",
   "execution_count": 105,
   "id": "08b0aec7",
   "metadata": {},
   "outputs": [
    {
     "data": {
      "text/plain": [
       "array([[0, 1],\n",
       "       [2, 3],\n",
       "       [4, 5]])"
      ]
     },
     "execution_count": 105,
     "metadata": {},
     "output_type": "execute_result"
    }
   ],
   "source": [
    "a = np.arange(6).reshape(3, 2)\n",
    "a"
   ]
  },
  {
   "cell_type": "code",
   "execution_count": 106,
   "id": "84c7d1d4",
   "metadata": {},
   "outputs": [
    {
     "data": {
      "text/plain": [
       "array([[ 0,  3],\n",
       "       [ 4,  9],\n",
       "       [ 8, 15]])"
      ]
     },
     "execution_count": 106,
     "metadata": {},
     "output_type": "execute_result"
    }
   ],
   "source": [
    "# 3x2 * 1x2 / 2\n",
    "# 1x2 / 2 -> 3x2\n",
    "# a * np.array([[2, 3]])\n",
    "a * np.array([2, 3])"
   ]
  },
  {
   "cell_type": "code",
   "execution_count": 107,
   "id": "5180564b",
   "metadata": {},
   "outputs": [
    {
     "data": {
      "text/plain": [
       "array([[ 0,  2],\n",
       "       [ 6,  9],\n",
       "       [16, 20]])"
      ]
     },
     "execution_count": 107,
     "metadata": {},
     "output_type": "execute_result"
    }
   ],
   "source": [
    "# 3x2 * 3x1\n",
    "# 3x1 -> 3x2\n",
    "a * np.array([[2],\n",
    "              [3],\n",
    "              [4]])"
   ]
  },
  {
   "cell_type": "code",
   "execution_count": 108,
   "id": "3a47868a",
   "metadata": {},
   "outputs": [
    {
     "data": {
      "text/plain": [
       "array([[ 0,  2],\n",
       "       [ 4,  6],\n",
       "       [ 8, 10]])"
      ]
     },
     "execution_count": 108,
     "metadata": {},
     "output_type": "execute_result"
    }
   ],
   "source": [
    "# 3x2 * 1x1 / 1\n",
    "# 1x1 / 1 -> 3x2\n",
    "# a * np.array([[2]])\n",
    "a * 2"
   ]
  },
  {
   "cell_type": "markdown",
   "id": "60d5b76d",
   "metadata": {},
   "source": [
    "向量内积\n",
    "\n",
    "- `ndarray.dot(a)`\n",
    "- `np.dot(a, b)`\n",
    "\n",
    "矩阵范数\n",
    "\n",
    "- `np.linalg.norm(x, ord=None, axis=None, keepdims=False)`"
   ]
  },
  {
   "cell_type": "markdown",
   "id": "25f41fb0",
   "metadata": {},
   "source": [
    "矩阵乘法\n",
    "\n",
    "- `x1 @ x2`\n",
    "- `np.matmul(x1, x2)`"
   ]
  },
  {
   "cell_type": "code",
   "execution_count": null,
   "id": "f93a8225",
   "metadata": {},
   "outputs": [],
   "source": []
  },
  {
   "cell_type": "code",
   "execution_count": 109,
   "id": "1dcda4c3",
   "metadata": {},
   "outputs": [
    {
     "data": {
      "text/plain": [
       "array([[0, 1, 2],\n",
       "       [3, 4, 5],\n",
       "       [6, 7, 8]])"
      ]
     },
     "execution_count": 109,
     "metadata": {},
     "output_type": "execute_result"
    }
   ],
   "source": [
    "# 1.1\n",
    "a = np.arange(9).reshape(3, 3)\n",
    "a"
   ]
  },
  {
   "cell_type": "code",
   "execution_count": 110,
   "id": "7b2952d2",
   "metadata": {},
   "outputs": [
    {
     "data": {
      "text/plain": [
       "array([[8, 5, 2],\n",
       "       [7, 4, 1],\n",
       "       [6, 3, 0]])"
      ]
     },
     "execution_count": 110,
     "metadata": {},
     "output_type": "execute_result"
    }
   ],
   "source": [
    "b = np.arange(9)[::-1].reshape(3, 3, order='F')\n",
    "b"
   ]
  },
  {
   "cell_type": "code",
   "execution_count": 111,
   "id": "6f830670",
   "metadata": {},
   "outputs": [
    {
     "data": {
      "text/plain": [
       "array([[ 19,  10,   1],\n",
       "       [ 82,  46,  10],\n",
       "       [145,  82,  19]])"
      ]
     },
     "execution_count": 111,
     "metadata": {},
     "output_type": "execute_result"
    }
   ],
   "source": [
    "a @ b"
   ]
  },
  {
   "cell_type": "code",
   "execution_count": 112,
   "id": "13bee9a2",
   "metadata": {},
   "outputs": [
    {
     "data": {
      "text/plain": [
       "array([[ 19,  10,   1],\n",
       "       [ 82,  46,  10],\n",
       "       [145,  82,  19]])"
      ]
     },
     "execution_count": 112,
     "metadata": {},
     "output_type": "execute_result"
    }
   ],
   "source": [
    "np.array([[i.dot(j) for j in b.T] for i in a])"
   ]
  },
  {
   "cell_type": "code",
   "execution_count": null,
   "id": "41ad6243",
   "metadata": {},
   "outputs": [],
   "source": []
  },
  {
   "cell_type": "code",
   "execution_count": 113,
   "id": "18a0438f",
   "metadata": {},
   "outputs": [
    {
     "data": {
      "text/plain": [
       "array([[1, 2, 3],\n",
       "       [4, 5, 6],\n",
       "       [7, 8, 9]])"
      ]
     },
     "execution_count": 113,
     "metadata": {},
     "output_type": "execute_result"
    }
   ],
   "source": [
    "# 1.2\n",
    "a = np.arange(1, 10).reshape(3, 3)\n",
    "a"
   ]
  },
  {
   "cell_type": "code",
   "execution_count": 114,
   "id": "c0cf50bd",
   "metadata": {},
   "outputs": [
    {
     "data": {
      "text/plain": [
       "array([[1.83333333, 3.66666667, 5.5       ],\n",
       "       [2.46666667, 3.08333333, 3.7       ],\n",
       "       [2.65277778, 3.03174603, 3.41071429]])"
      ]
     },
     "execution_count": 114,
     "metadata": {},
     "output_type": "execute_result"
    }
   ],
   "source": [
    "np.sum(1 / a, axis=1).reshape(3, -1) * a"
   ]
  },
  {
   "cell_type": "code",
   "execution_count": null,
   "id": "34404f8c",
   "metadata": {},
   "outputs": [],
   "source": []
  },
  {
   "cell_type": "code",
   "execution_count": 115,
   "id": "cee45830",
   "metadata": {},
   "outputs": [
    {
     "data": {
      "text/plain": [
       "array([[15, 10, 13, 13, 17],\n",
       "       [19, 13, 15, 12, 14],\n",
       "       [17, 16, 18, 18, 11],\n",
       "       [16, 17, 17, 18, 11],\n",
       "       [15, 19, 18, 19, 14],\n",
       "       [13, 10, 13, 15, 10],\n",
       "       [12, 13, 18, 11, 13],\n",
       "       [13, 13, 17, 10, 11]])"
      ]
     },
     "execution_count": 115,
     "metadata": {},
     "output_type": "execute_result"
    }
   ],
   "source": [
    "# 1.3\n",
    "np.random.seed(0)\n",
    "a = np.random.randint(10, 20, (8, 5))\n",
    "a"
   ]
  },
  {
   "cell_type": "code",
   "execution_count": 116,
   "id": "f3169591",
   "metadata": {},
   "outputs": [
    {
     "data": {
      "text/plain": [
       "array([[14.14211438, 13.08145581, 15.20277296, 13.67071057, 11.90294627],\n",
       "       [15.18197574, 14.04332756, 16.32062392, 14.67590988, 12.77816291],\n",
       "       [16.63778163, 15.38994801, 17.88561525, 16.08318891, 14.0034662 ],\n",
       "       [16.42980936, 15.19757366, 17.66204506, 15.88214905, 13.82842288],\n",
       "       [17.67764298, 16.35181976, 19.0034662 , 17.08838821, 14.87868284],\n",
       "       [12.68630849, 11.73483536, 13.63778163, 12.26343154, 10.67764298],\n",
       "       [13.93414211, 12.88908146, 14.97920277, 13.46967071, 11.72790295],\n",
       "       [13.3102253 , 12.31195841, 14.3084922 , 12.86655113, 11.20277296]])"
      ]
     },
     "execution_count": 116,
     "metadata": {},
     "output_type": "execute_result"
    }
   ],
   "source": [
    "b = a.sum(axis=1).reshape(a.shape[0], -1) * a.sum(axis=0).reshape(-1, a.shape[1]) / a.sum()\n",
    "b"
   ]
  },
  {
   "cell_type": "code",
   "execution_count": 117,
   "id": "8628c86a",
   "metadata": {},
   "outputs": [
    {
     "data": {
      "text/plain": [
       "11.842696601945802"
      ]
     },
     "execution_count": 117,
     "metadata": {},
     "output_type": "execute_result"
    }
   ],
   "source": [
    "np.sum((a - b) ** 2 / b)"
   ]
  },
  {
   "cell_type": "code",
   "execution_count": null,
   "id": "0d821083",
   "metadata": {},
   "outputs": [],
   "source": []
  },
  {
   "cell_type": "code",
   "execution_count": 118,
   "id": "14ab187b",
   "metadata": {},
   "outputs": [],
   "source": [
    "# 1.4\n",
    "import time\n",
    "\n",
    "np.random.seed(0)\n",
    "m, n, p = 100, 80, 50\n",
    "B = np.random.randint(0, 2, (m, p))\n",
    "U = np.random.randint(0, 2, (p, n))\n",
    "Z = np.random.randint(0, 2, (m, n))"
   ]
  },
  {
   "cell_type": "code",
   "execution_count": 119,
   "id": "6d731932",
   "metadata": {},
   "outputs": [
    {
     "data": {
      "text/plain": [
       "(100566, 0.034029245376586914)"
      ]
     },
     "execution_count": 119,
     "metadata": {},
     "output_type": "execute_result"
    }
   ],
   "source": [
    "def solution(B=B, U=U, Z=Z):\n",
    "    L_res = []\n",
    "    for i in range(m):\n",
    "        for j in range(n):\n",
    "            norm_value = ((B[i] - U[:, j]) ** 2).sum()\n",
    "            L_res.append(norm_value * Z[i][j])\n",
    "    return sum(L_res)\n",
    "\n",
    "\n",
    "st = time.time()\n",
    "ans = solution(B, U, Z)\n",
    "ed = time.time()\n",
    "ans, ed - st"
   ]
  },
  {
   "cell_type": "code",
   "execution_count": 120,
   "id": "0c81af35",
   "metadata": {},
   "outputs": [
    {
     "data": {
      "text/plain": [
       "(100566, 0.032205820083618164)"
      ]
     },
     "execution_count": 120,
     "metadata": {},
     "output_type": "execute_result"
    }
   ],
   "source": [
    "def solution(B=B, U=U, Z=Z):\n",
    "    ans = 0\n",
    "    for i in range(m):\n",
    "        for j in range(n):\n",
    "            norm_value = ((B[i] - U[:, j]) ** 2).sum()\n",
    "            ans += norm_value * Z[i][j]\n",
    "    return ans\n",
    "\n",
    "\n",
    "st = time.time()\n",
    "ans = solution(B, U, Z)\n",
    "ed = time.time()\n",
    "ans, ed - st"
   ]
  },
  {
   "cell_type": "code",
   "execution_count": null,
   "id": "ab42d897",
   "metadata": {},
   "outputs": [],
   "source": []
  },
  {
   "cell_type": "code",
   "execution_count": 121,
   "id": "8b39e840",
   "metadata": {},
   "outputs": [
    {
     "data": {
      "text/plain": [
       "array([1, 2, 5, 6, 7])"
      ]
     },
     "execution_count": 121,
     "metadata": {},
     "output_type": "execute_result"
    }
   ],
   "source": [
    "# 1.5\n",
    "a = np.array([1, 2, 5, 6, 7])\n",
    "a"
   ]
  },
  {
   "cell_type": "code",
   "execution_count": 122,
   "id": "2b3544d4",
   "metadata": {},
   "outputs": [
    {
     "data": {
      "text/plain": [
       "array([False,  True, False, False])"
      ]
     },
     "execution_count": 122,
     "metadata": {},
     "output_type": "execute_result"
    }
   ],
   "source": [
    "np.diff(a) != 1"
   ]
  },
  {
   "cell_type": "code",
   "execution_count": 123,
   "id": "a3986e20",
   "metadata": {},
   "outputs": [
    {
     "data": {
      "text/plain": [
       "array([1, 0, 1, 0, 0, 1])"
      ]
     },
     "execution_count": 123,
     "metadata": {},
     "output_type": "execute_result"
    }
   ],
   "source": [
    "np.r_[1, np.diff(a) != 1, 1]"
   ]
  },
  {
   "cell_type": "code",
   "execution_count": 124,
   "id": "04deb918",
   "metadata": {},
   "outputs": [
    {
     "data": {
      "text/plain": [
       "(array([0, 2, 5]),)"
      ]
     },
     "execution_count": 124,
     "metadata": {},
     "output_type": "execute_result"
    }
   ],
   "source": [
    "np.nonzero(np.r_[1, np.diff(a) != 1, 1])"
   ]
  },
  {
   "cell_type": "code",
   "execution_count": 125,
   "id": "eeef3980",
   "metadata": {},
   "outputs": [
    {
     "data": {
      "text/plain": [
       "array([[2, 3]])"
      ]
     },
     "execution_count": 125,
     "metadata": {},
     "output_type": "execute_result"
    }
   ],
   "source": [
    "np.diff(np.nonzero(np.r_[1, np.diff(a) != 1, 1]))"
   ]
  },
  {
   "cell_type": "code",
   "execution_count": 126,
   "id": "e9d939d0",
   "metadata": {},
   "outputs": [
    {
     "data": {
      "text/plain": [
       "3"
      ]
     },
     "execution_count": 126,
     "metadata": {},
     "output_type": "execute_result"
    }
   ],
   "source": [
    "np.max(np.diff(np.nonzero(np.r_[1, np.diff(a) != 1, 1])))"
   ]
  }
 ],
 "metadata": {
  "kernelspec": {
   "display_name": "Python 3 (ipykernel)",
   "language": "python",
   "name": "python3"
  },
  "language_info": {
   "codemirror_mode": {
    "name": "ipython",
    "version": 3
   },
   "file_extension": ".py",
   "mimetype": "text/x-python",
   "name": "python",
   "nbconvert_exporter": "python",
   "pygments_lexer": "ipython3",
   "version": "3.8.10"
  }
 },
 "nbformat": 4,
 "nbformat_minor": 5
}
